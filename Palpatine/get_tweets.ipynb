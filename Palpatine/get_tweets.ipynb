{
 "cells": [
  {
   "cell_type": "code",
   "execution_count": 1,
   "metadata": {},
   "outputs": [],
   "source": [
    "import tweepy\n",
    "import datetime"
   ]
  },
  {
   "cell_type": "code",
   "execution_count": 2,
   "metadata": {},
   "outputs": [],
   "source": [
    "TWITTER_CONSUMER_KEY = 'ynYm6RuGUjJ2wiIW1t4zIa2h3'\n",
    "TWITTER_CONSUMER_SECRET = '7a3KIwDlJFd7Va7uIV66bsjhGSGr6y0G9cwac9DaIARJXAT7SE'\n",
    "TWITTER_ACCESS_TOKEN = '1500118349304545280-aGTgK1saXiAYqzoqOuifFE3se6bCrg'\n",
    "TWITTER_ACCESS_TOKEN_SECRET = 'Hbegg7u6lEn74Jyq7T9ZgySa7mAkMi70KGU6IaH0jZs25'\n",
    "\n",
    "auth = tweepy.OAuthHandler(TWITTER_CONSUMER_KEY, TWITTER_CONSUMER_SECRET)\n",
    "auth.set_access_token(TWITTER_ACCESS_TOKEN, TWITTER_ACCESS_TOKEN_SECRET)\n",
    "api = tweepy.API(auth,wait_on_rate_limit=True)"
   ]
  },
  {
   "cell_type": "code",
   "execution_count": 3,
   "metadata": {},
   "outputs": [],
   "source": [
    "output = []\n",
    "war_days = 7\n",
    "today = datetime.datetime.now()\n",
    "today = today.replace(hour=23, minute=59, second=59, microsecond=999999) # set from the beggining of the day\n",
    "count = 100 # Set the number of tweets to retrieve\n",
    "\n",
    "for time_to_the_past in range(war_days):\n",
    "\n",
    "    # setting datetime\n",
    "    previous_day = today - datetime.timedelta(days = time_to_the_past)\n",
    "    previous_day = previous_day.replace(hour=23, minute=59, second=59, microsecond=999999)\n",
    "\n",
    "    tweets_list = tweepy.Cursor(api.search_tweets,\n",
    "                                q = '#ukraine',\n",
    "                                lang = 'pl',\n",
    "                                tweet_mode=\"extended\",\n",
    "                                until = previous_day.date()\n",
    "                               ).items(count)\n",
    "    for tweet in tweets_list:\n",
    "        text = tweet._json[\"full_text\"]\n",
    "        retweet_count = tweet.retweet_count\n",
    "        created_at = tweet.created_at\n",
    "        tweet_id = tweet.id\n",
    "        author = tweet.author.screen_name\n",
    "        is_verified = tweet.user.verified\n",
    "        location = tweet.author.location\n",
    "\n",
    "        line = {\n",
    "            'id': tweet_id,\n",
    "            'text' : text,\n",
    "            'retweet_count' : retweet_count,\n",
    "            'created_at' : created_at,\n",
    "            'author' : author,\n",
    "            'location' : location,\n",
    "            'is_verified' : is_verified\n",
    "        }\n",
    "        if line not in output:\n",
    "            output.append(line)            "
   ]
  },
  {
   "cell_type": "code",
   "execution_count": 4,
   "metadata": {},
   "outputs": [],
   "source": [
    "import pandas as pd\n",
    "\n",
    "df = pd.DataFrame(output)\n",
    "df.to_csv('output.csv', mode='a')"
   ]
  }
 ],
 "metadata": {
  "kernelspec": {
   "display_name": "Python 3",
   "language": "python",
   "name": "python3"
  },
  "language_info": {
   "codemirror_mode": {
    "name": "ipython",
    "version": 3
   },
   "file_extension": ".py",
   "mimetype": "text/x-python",
   "name": "python",
   "nbconvert_exporter": "python",
   "pygments_lexer": "ipython3",
   "version": "3.8.8"
  }
 },
 "nbformat": 4,
 "nbformat_minor": 4
}
